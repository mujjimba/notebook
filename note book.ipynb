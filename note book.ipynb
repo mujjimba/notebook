{
 "cells": [
  {
   "cell_type": "markdown",
   "metadata": {},
   "source": [
    "Ssession 4 Ds_ML Lecture - Arrays, List, Tuples in python"
   ]
  },
  {
   "cell_type": "code",
   "execution_count": null,
   "metadata": {},
   "outputs": [],
   "source": [
    "#creating an array in python\n",
    "import numpy as np"
   ]
  },
  {
   "cell_type": "code",
   "execution_count": null,
   "metadata": {},
   "outputs": [],
   "source": [
    "a= np.array([0,1,2,3])\n",
    "#note:np means numpy library,dot(.) means call array"
   ]
  },
  {
   "cell_type": "code",
   "execution_count": null,
   "metadata": {},
   "outputs": [
    {
     "data": {
      "text/plain": [
       "numpy.ndarray"
      ]
     },
     "execution_count": 3,
     "metadata": {},
     "output_type": "execute_result"
    }
   ],
   "source": [
    "#cheaking the type of an array\n",
    "type(a)"
   ]
  },
  {
   "cell_type": "code",
   "execution_count": null,
   "metadata": {},
   "outputs": [
    {
     "data": {
      "text/plain": [
       "[1, 2, 3]"
      ]
     },
     "execution_count": 4,
     "metadata": {},
     "output_type": "execute_result"
    }
   ],
   "source": [
    "[1,2,3]"
   ]
  },
  {
   "cell_type": "code",
   "execution_count": null,
   "metadata": {},
   "outputs": [],
   "source": [
    "empty =[] #creat empty list"
   ]
  },
  {
   "cell_type": "code",
   "execution_count": null,
   "metadata": {},
   "outputs": [
    {
     "name": "stdout",
     "output_type": "stream",
     "text": [
      "[]\n"
     ]
    }
   ],
   "source": [
    "print(empty) #check empty list"
   ]
  },
  {
   "cell_type": "markdown",
   "metadata": {},
   "source": [
    "REMEMBER ; LISTS ARE MUTABLE AND CAN BE CAHANGED .WHILE TUPLES ARE UNMUTABLE AND CANT BE CAHANGED "
   ]
  },
  {
   "cell_type": "markdown",
   "metadata": {},
   "source": [
    "HOW TO CREATE A TUPLE "
   ]
  },
  {
   "cell_type": "code",
   "execution_count": null,
   "metadata": {},
   "outputs": [],
   "source": [
    "tuple =1,2,3,4"
   ]
  },
  {
   "cell_type": "code",
   "execution_count": 42,
   "metadata": {},
   "outputs": [],
   "source": [
    "#lists of 4 elememts\n",
    "list_1 = (\"dog\", \"goat\" \"sheep\")\n",
    "list_2 =(True,False,True)\n",
    "list_3 =(1,5,6,7,8)       "
   ]
  },
  {
   "cell_type": "code",
   "execution_count": 3,
   "metadata": {},
   "outputs": [
    {
     "name": "stdout",
     "output_type": "stream",
     "text": [
      "<class 'tuple'>\n"
     ]
    }
   ],
   "source": [
    "list_1 =(\"dog\",\"goat\",\"sheep\")\n",
    "print((type(list_1)))\n"
   ]
  },
  {
   "cell_type": "code",
   "execution_count": 5,
   "metadata": {},
   "outputs": [
    {
     "name": "stdout",
     "output_type": "stream",
     "text": [
      "(9.99, 7.99, 7, 99, 7.49, 7.0, 6.29, 4.99, 7.5, 4.4, 3.75, 2.25)\n"
     ]
    }
   ],
   "source": [
    "#import numpy as np\n",
    "cj =(9.99 ,7.99,7.49,7.00,6.29,4.99)\n",
    "Kfc =(7.5,5,4.4,3.75,2.25)\n",
    "total_sum = (cj +Kfc)\n",
    "print(total_sum)\n"
   ]
  },
  {
   "cell_type": "code",
   "execution_count": 1,
   "metadata": {},
   "outputs": [
    {
     "name": "stdout",
     "output_type": "stream",
     "text": [
      "<class 'tuple'>\n"
     ]
    }
   ],
   "source": [
    "#Getting the type\n",
    "cj =(9.99,7.99,7.49,7.00,6.29,4.99)\n",
    "print(type(cj))"
   ]
  },
  {
   "cell_type": "code",
   "execution_count": 2,
   "metadata": {},
   "outputs": [
    {
     "name": "stdout",
     "output_type": "stream",
     "text": [
      "<class 'type'>\n"
     ]
    }
   ],
   "source": [
    "#Getting the type\n",
    "Kfc =(7.5,4.4,3.75,2.25)\n",
    "print(type)\n"
   ]
  },
  {
   "cell_type": "code",
   "execution_count": 17,
   "metadata": {},
   "outputs": [
    {
     "name": "stdout",
     "output_type": "stream",
     "text": [
      "float64\n"
     ]
    }
   ],
   "source": [
    "#creating arrays\n",
    "import numpy as np\n",
    "kfc_array =np.array([7.5,5,4.4,3.75,2.25])\n",
    "print(kfc_array.dtype)\n",
    "\n",
    "\n",
    "                "
   ]
  },
  {
   "cell_type": "code",
   "execution_count": 22,
   "metadata": {},
   "outputs": [
    {
     "name": "stdout",
     "output_type": "stream",
     "text": [
      "float64\n"
     ]
    }
   ],
   "source": [
    "Cj_array = np.array([9.99,7.99,7.49,7.00,6.29,4.99])\n",
    "print(Cj_array.dtype)"
   ]
  },
  {
   "cell_type": "code",
   "execution_count": 43,
   "metadata": {},
   "outputs": [
    {
     "ename": "ValueError",
     "evalue": "operands could not be broadcast together with shapes (5,) (6,) ",
     "output_type": "error",
     "traceback": [
      "\u001b[1;31m---------------------------------------------------------------------------\u001b[0m",
      "\u001b[1;31mValueError\u001b[0m                                Traceback (most recent call last)",
      "\u001b[1;32mc:\\Users\\Student\\Desktop\\WITU COHORT 3\\YEAR ONE\\SEMITER ONE\\computer pogrammimg in python\\Exams\\note book.ipynb Cell 18\u001b[0m line \u001b[0;36m2\n\u001b[0;32m      <a href='vscode-notebook-cell:/c%3A/Users/Student/Desktop/WITU%20COHORT%203/YEAR%20ONE/SEMITER%20ONE/computer%20pogrammimg%20in%20python/Exams/note%20book.ipynb#X22sZmlsZQ%3D%3D?line=0'>1</a>\u001b[0m \u001b[39m#creating an object\u001b[39;00m\n\u001b[1;32m----> <a href='vscode-notebook-cell:/c%3A/Users/Student/Desktop/WITU%20COHORT%203/YEAR%20ONE/SEMITER%20ONE/computer%20pogrammimg%20in%20python/Exams/note%20book.ipynb#X22sZmlsZQ%3D%3D?line=1'>2</a>\u001b[0m difference\u001b[39m=\u001b[39m(kfc_array \u001b[39m-\u001b[39;49m Cj_array)\n\u001b[0;32m      <a href='vscode-notebook-cell:/c%3A/Users/Student/Desktop/WITU%20COHORT%203/YEAR%20ONE/SEMITER%20ONE/computer%20pogrammimg%20in%20python/Exams/note%20book.ipynb#X22sZmlsZQ%3D%3D?line=2'>3</a>\u001b[0m \u001b[39mprint\u001b[39m(kfc_array \u001b[39m-\u001b[39m Cj_array)\n",
      "\u001b[1;31mValueError\u001b[0m: operands could not be broadcast together with shapes (5,) (6,) "
     ]
    }
   ],
   "source": [
    "#creating an object\n",
    "difference=(kfc_array - Cj_array)\n",
    "print(kfc_array - Cj_array)\n"
   ]
  },
  {
   "cell_type": "code",
   "execution_count": 44,
   "metadata": {},
   "outputs": [
    {
     "ename": "NameError",
     "evalue": "name 'differences' is not defined",
     "output_type": "error",
     "traceback": [
      "\u001b[1;31m---------------------------------------------------------------------------\u001b[0m",
      "\u001b[1;31mNameError\u001b[0m                                 Traceback (most recent call last)",
      "\u001b[1;32mc:\\Users\\Student\\Desktop\\WITU COHORT 3\\YEAR ONE\\SEMITER ONE\\computer pogrammimg in python\\Exams\\note book.ipynb Cell 19\u001b[0m line \u001b[0;36m2\n\u001b[0;32m      <a href='vscode-notebook-cell:/c%3A/Users/Student/Desktop/WITU%20COHORT%203/YEAR%20ONE/SEMITER%20ONE/computer%20pogrammimg%20in%20python/Exams/note%20book.ipynb#X24sZmlsZQ%3D%3D?line=0'>1</a>\u001b[0m \u001b[39m#mean of the difference\u001b[39;00m\n\u001b[1;32m----> <a href='vscode-notebook-cell:/c%3A/Users/Student/Desktop/WITU%20COHORT%203/YEAR%20ONE/SEMITER%20ONE/computer%20pogrammimg%20in%20python/Exams/note%20book.ipynb#X24sZmlsZQ%3D%3D?line=1'>2</a>\u001b[0m np\u001b[39m.\u001b[39mmean(differences)\n",
      "\u001b[1;31mNameError\u001b[0m: name 'differences' is not defined"
     ]
    }
   ],
   "source": [
    "#mean of the difference\n",
    "np.mean(differences)"
   ]
  },
  {
   "cell_type": "code",
   "execution_count": 41,
   "metadata": {},
   "outputs": [
    {
     "ename": "ValueError",
     "evalue": "operands could not be broadcast together with shapes (5,) (6,) ",
     "output_type": "error",
     "traceback": [
      "\u001b[1;31m---------------------------------------------------------------------------\u001b[0m",
      "\u001b[1;31mValueError\u001b[0m                                Traceback (most recent call last)",
      "\u001b[1;32mc:\\Users\\Student\\Desktop\\WITU COHORT 3\\YEAR ONE\\SEMITER ONE\\computer pogrammimg in python\\Exams\\note book.ipynb Cell 20\u001b[0m line \u001b[0;36m2\n\u001b[0;32m      <a href='vscode-notebook-cell:/c%3A/Users/Student/Desktop/WITU%20COHORT%203/YEAR%20ONE/SEMITER%20ONE/computer%20pogrammimg%20in%20python/Exams/note%20book.ipynb#X25sZmlsZQ%3D%3D?line=0'>1</a>\u001b[0m \u001b[39m#standard deviation for the differences\u001b[39;00m\n\u001b[1;32m----> <a href='vscode-notebook-cell:/c%3A/Users/Student/Desktop/WITU%20COHORT%203/YEAR%20ONE/SEMITER%20ONE/computer%20pogrammimg%20in%20python/Exams/note%20book.ipynb#X25sZmlsZQ%3D%3D?line=1'>2</a>\u001b[0m np\u001b[39m.\u001b[39mstd(kfc_array\u001b[39m-\u001b[39;49mCj_array)\n",
      "\u001b[1;31mValueError\u001b[0m: operands could not be broadcast together with shapes (5,) (6,) "
     ]
    }
   ],
   "source": [
    "#standard deviation for the differences\n",
    "np.std(kfc_array-Cj_array)\n"
   ]
  }
 ],
 "metadata": {
  "kernelspec": {
   "display_name": "Python 3",
   "language": "python",
   "name": "python3"
  },
  "language_info": {
   "codemirror_mode": {
    "name": "ipython",
    "version": 3
   },
   "file_extension": ".py",
   "mimetype": "text/x-python",
   "name": "python",
   "nbconvert_exporter": "python",
   "pygments_lexer": "ipython3",
   "version": "3.11.4"
  },
  "orig_nbformat": 4
 },
 "nbformat": 4,
 "nbformat_minor": 2
}
